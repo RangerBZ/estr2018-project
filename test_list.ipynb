{
 "cells": [
  {
   "cell_type": "code",
   "execution_count": 3,
   "metadata": {},
   "outputs": [],
   "source": [
    "import os\n",
    "import pandas as pd\n",
    "import nltk\n",
    "\n",
    "from nltk.tokenize import word_tokenize\n",
    "from nltk.stem import PorterStemmer\n",
    "from nltk.corpus import stopwords\n",
    "\n",
    "pos_test = []\n",
    "neg_test = []\n",
    "\n",
    "for file in os.scandir(\"./aclImdb/test/pos\"):\n",
    "    txt = open(file, \"r\", encoding= \"utf-8\")\n",
    "    pos_test.append(txt.read().lower())\n",
    "    txt.close()\n",
    "\n",
    "for file in os.scandir(\"./aclImdb/test/neg\"):\n",
    "    txt = open(file, \"r\", encoding= \"utf-8\")\n",
    "    neg_test.append(txt.read().lower())\n",
    "    txt.close()\n",
    "\n",
    "pd.Series(pos_test).to_csv(\"pos_test.csv\", index = False, header = [\"Text\"], encoding=\"utf-8\")\n",
    "pd.Series(neg_test).to_csv(\"neg_test.csv\", index = False, header = [\"Text\"], encoding=\"utf-8\")"
   ]
  },
  {
   "cell_type": "code",
   "execution_count": 4,
   "metadata": {},
   "outputs": [
    {
     "name": "stdout",
     "output_type": "stream",
     "text": [
      "                                                    Text  Positive\n",
      "0      i went and saw this movie last night after bei...      True\n",
      "1      actor turned director bill paxton follows up h...      True\n",
      "2      as a recreational golfer with some knowledge o...      True\n",
      "3      i saw this film in a sneak preview, and it is ...      True\n",
      "4      bill paxton has taken the true story of the 19...      True\n",
      "...                                                  ...       ...\n",
      "24995  i occasionally let my kids watch this garbage ...     False\n",
      "24996  when all we have anymore is pretty much realit...     False\n",
      "24997  the basic genre is a thriller intercut with an...     False\n",
      "24998  four things intrigued me as to this film - fir...     False\n",
      "24999  david bryce's comments nearby are exceptionall...     False\n",
      "\n",
      "[25000 rows x 2 columns]\n"
     ]
    }
   ],
   "source": [
    "pos_te = pd.read_csv(\"./pos_test.csv\", encoding = \"utf-8\")\n",
    "neg_te = pd.read_csv(\"./neg_test.csv\", encoding = \"utf-8\")\n",
    "pos_te.insert(1, \"Positive\", True)\n",
    "neg_te.insert(1, \"Positive\", False)\n",
    "all_text = pd.concat([pos_te, neg_te], ignore_index = True)\n",
    "print(all_text)"
   ]
  },
  {
   "cell_type": "code",
   "execution_count": 5,
   "metadata": {},
   "outputs": [],
   "source": [
    "stop_words = set(stopwords.words(\"English\"))\n",
    "stop_words.add(\"br\")\n",
    "stemmer = PorterStemmer()\n",
    "word_freq = []\n",
    "all_words = set()\n",
    "\n",
    "for comment in all_text[\"Text\"]:\n",
    "    words = word_tokenize(comment)\n",
    "    words = [stemmer.stem(word) for word in words if word not in stop_words and word.isalpha()]\n",
    "    for word in words: all_words.add(word)\n",
    "    word_freq.append(dict(nltk.FreqDist(w for w in words)))\n",
    "\n",
    "all_text.insert(2, \"Freq\", word_freq)"
   ]
  },
  {
   "cell_type": "code",
   "execution_count": 6,
   "metadata": {},
   "outputs": [
    {
     "name": "stdout",
     "output_type": "stream",
     "text": [
      "                                                    Text  Positive  \\\n",
      "0      i went and saw this movie last night after bei...      True   \n",
      "1      actor turned director bill paxton follows up h...      True   \n",
      "2      as a recreational golfer with some knowledge o...      True   \n",
      "3      i saw this film in a sneak preview, and it is ...      True   \n",
      "4      bill paxton has taken the true story of the 19...      True   \n",
      "...                                                  ...       ...   \n",
      "24995  i occasionally let my kids watch this garbage ...     False   \n",
      "24996  when all we have anymore is pretty much realit...     False   \n",
      "24997  the basic genre is a thriller intercut with an...     False   \n",
      "24998  four things intrigued me as to this film - fir...     False   \n",
      "24999  david bryce's comments nearby are exceptionall...     False   \n",
      "\n",
      "                                                    Freq  \n",
      "0      {'went': 1, 'saw': 2, 'movi': 4, 'last': 1, 'n...  \n",
      "1      {'actor': 1, 'turn': 1, 'director': 1, 'bill':...  \n",
      "2      {'recreat': 1, 'golfer': 1, 'knowledg': 1, 'sp...  \n",
      "3      {'saw': 1, 'film': 3, 'sneak': 1, 'preview': 1...  \n",
      "4      {'bill': 1, 'paxton': 1, 'taken': 1, 'true': 1...  \n",
      "...                                                  ...  \n",
      "24995  {'occasion': 1, 'let': 1, 'kid': 1, 'watch': 1...  \n",
      "24996  {'anymor': 1, 'pretti': 1, 'much': 1, 'realiti...  \n",
      "24997  {'basic': 1, 'genr': 1, 'thriller': 2, 'interc...  \n",
      "24998  {'four': 1, 'thing': 1, 'intrigu': 1, 'film': ...  \n",
      "24999  {'david': 1, 'bryce': 1, 'comment': 1, 'nearbi...  \n",
      "\n",
      "[25000 rows x 3 columns]\n"
     ]
    }
   ],
   "source": [
    "print(all_text)\n",
    "all_text.to_csv(\"test_comments.csv\", index=False, encoding=\"utf-8\")"
   ]
  }
 ],
 "metadata": {
  "kernelspec": {
   "display_name": "Learn",
   "language": "python",
   "name": "python3"
  },
  "language_info": {
   "codemirror_mode": {
    "name": "ipython",
    "version": 3
   },
   "file_extension": ".py",
   "mimetype": "text/x-python",
   "name": "python",
   "nbconvert_exporter": "python",
   "pygments_lexer": "ipython3",
   "version": "3.11.10"
  }
 },
 "nbformat": 4,
 "nbformat_minor": 2
}
