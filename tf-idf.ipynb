{
 "cells": [
  {
   "cell_type": "code",
   "execution_count": 41,
   "metadata": {},
   "outputs": [],
   "source": [
    "import numpy as np\n",
    "import pandas as pd\n",
    "import sklearn.feature_selection as skf\n",
    "from sklearn.naive_bayes import MultinomialNB\n",
    "from sklearn.metrics import accuracy_score\n",
    "import ast\n",
    "import pickle\n",
    "import os"
   ]
  },
  {
   "cell_type": "code",
   "execution_count": 42,
   "metadata": {},
   "outputs": [
    {
     "name": "stdout",
     "output_type": "stream",
     "text": [
      "faustian        3.000180\n",
      "shaffner        1.000020\n",
      "outdoorsman     0.333353\n",
      "donlon          1.000020\n",
      "unsur           1.258582\n",
      "                  ...   \n",
      "repertori       0.333353\n",
      "bodypress       1.000020\n",
      "wonderley       1.000020\n",
      "wain            0.000000\n",
      "multimillion    1.000020\n",
      "Length: 48447, dtype: float64\n"
     ]
    }
   ],
   "source": [
    "with open('chi_squared.pkl', 'rb') as chi_sq:\n",
    "    chi_squared_dict = dict(pickle.load(chi_sq))\n",
    "chi_squared_series = pd.Series(chi_squared_dict)\n",
    "print(chi_squared_series)"
   ]
  },
  {
   "cell_type": "code",
   "execution_count": 50,
   "metadata": {},
   "outputs": [
    {
     "name": "stdout",
     "output_type": "stream",
     "text": [
      "faustian                            [[25000, 0], [24997, 3]]\n",
      "steven      [[24862, 104, 25, 5, 4], [24872, 113, 14, 1, 0]]\n",
      "initi             [[24832, 155, 13, 0], [24771, 215, 13, 1]]\n",
      "raciest                             [[25000, 0], [24998, 2]]\n",
      "lilt                                [[24996, 4], [25000, 0]]\n",
      "                                  ...                       \n",
      "ugghhh                              [[24998, 2], [25000, 0]]\n",
      "unrev                               [[25000, 0], [24998, 2]]\n",
      "thrust                [[24981, 19, 0, 0], [24964, 34, 1, 1]]\n",
      "lehar                               [[24998, 2], [25000, 0]]\n",
      "ditch                 [[24980, 20, 0, 0], [24989, 10, 0, 1]]\n",
      "Length: 17839, dtype: object\n"
     ]
    }
   ],
   "source": [
    "with open('freq_table.pkl', 'rb') as freq_table:\n",
    "    freq_table_dict = dict(pickle.load(freq_table))\n",
    "freq_table_series = pd.Series({key: freq_table_dict[key] for key in freq_table_dict if chi_squared_dict[key] > 2})\n",
    "print(freq_table_series)"
   ]
  },
  {
   "cell_type": "code",
   "execution_count": 51,
   "metadata": {},
   "outputs": [
    {
     "name": "stdout",
     "output_type": "stream",
     "text": [
      "                                                  freq table       idf\n",
      "movi       [[16390, 2412, 1846, 1417, 953, 675, 454, 302,...  1.136937\n",
      "film       [[17759, 2423, 1651, 1067, 686, 452, 296, 230,...  1.223427\n",
      "one        [[18024, 3686, 1829, 800, 344, 159, 78, 37, 20...  1.264714\n",
      "like       [[18430, 3596, 1670, 677, 325, 170, 68, 35, 16...  1.394972\n",
      "time       [[20092, 3312, 1085, 349, 100, 39, 17, 2, 3, 0...  1.615758\n",
      "...                                                      ...       ...\n",
      "grandaddi                           [[25000, 0], [24998, 2]]  9.721166\n",
      "namedrop                            [[25000, 0], [24998, 2]]  9.721166\n",
      "tiburon                             [[24998, 2], [25000, 0]]  9.721166\n",
      "flagstaff                           [[24998, 2], [25000, 0]]  9.721166\n",
      "desplat                       [[25000, 0, 0], [24998, 1, 1]]  9.721166\n",
      "\n",
      "[17839 rows x 2 columns]\n"
     ]
    }
   ],
   "source": [
    "total = sum(sum(r) for r in freq_table_series.values[0])\n",
    "def get_idf(freq : list[list[int]]) -> float:\n",
    "    cnt = sum(sum(r[1:]) for r in freq)\n",
    "    return np.log(total / (cnt + 1))\n",
    "\n",
    "selected_words = pd.DataFrame(freq_table_series)\n",
    "selected_words.columns = [\"freq table\"]\n",
    "idf_list = [get_idf(i) for i in selected_words[\"freq table\"]]\n",
    "selected_words.insert(1, \"idf\", idf_list)\n",
    "print(selected_words.sort_values(\"idf\"))"
   ]
  },
  {
   "cell_type": "code",
   "execution_count": 52,
   "metadata": {},
   "outputs": [
    {
     "name": "stdout",
     "output_type": "stream",
     "text": [
      "                                                    Text  Positive  \\\n",
      "0      bromwell high is a cartoon comedy. it ran at t...      True   \n",
      "1      homelessness (or houselessness as george carli...      True   \n",
      "2      brilliant over-acting by lesley ann warren. be...      True   \n",
      "3      this is easily the most underrated film inn th...      True   \n",
      "4      this is not the typical mel brooks film. it wa...      True   \n",
      "...                                                  ...       ...   \n",
      "24995  towards the end of the movie, i felt it was to...     False   \n",
      "24996  this is the kind of movie that my enemies cont...     False   \n",
      "24997  i saw 'descent' last night at the stockholm fi...     False   \n",
      "24998  some films that you pick up for a pound turn o...     False   \n",
      "24999  this is one of the dumbest films, i've ever se...     False   \n",
      "\n",
      "                                                    Freq  \n",
      "0      {'bromwel': 4, 'high': 5, 'cartoon': 1, 'comed...  \n",
      "1      {'homeless': 4, 'houseless': 1, 'georg': 1, 'c...  \n",
      "2      {'brilliant': 1, 'lesley': 1, 'ann': 1, 'warre...  \n",
      "3      {'easili': 1, 'underr': 1, 'film': 2, 'inn': 1...  \n",
      "4      {'typic': 1, 'mel': 1, 'brook': 2, 'film': 1, ...  \n",
      "...                                                  ...  \n",
      "24995  {'toward': 1, 'end': 1, 'movi': 7, 'felt': 2, ...  \n",
      "24996  {'kind': 3, 'movi': 2, 'enemi': 1, 'content': ...  \n",
      "24997  {'saw': 1, 'last': 1, 'night': 1, 'stockholm':...  \n",
      "24998  {'film': 7, 'pick': 1, 'pound': 1, 'turn': 1, ...  \n",
      "24999  {'one': 1, 'dumbest': 1, 'film': 2, 'ever': 2,...  \n",
      "\n",
      "[25000 rows x 3 columns]\n"
     ]
    }
   ],
   "source": [
    "all_comments_df = pd.read_csv(\"all_comments.csv\", encoding=\"utf-8\")\n",
    "print(all_comments_df)"
   ]
  },
  {
   "cell_type": "code",
   "execution_count": 53,
   "metadata": {},
   "outputs": [],
   "source": [
    "tag_list = []\n",
    "for word_freq_str in all_comments_df[\"Freq\"]:\n",
    "    tf_idf = {}\n",
    "    word_freq = ast.literal_eval(word_freq_str)\n",
    "    total_words_cnt = sum(word_freq[w] for w in word_freq)\n",
    "    for w in word_freq:\n",
    "        if w not in selected_words.index: continue\n",
    "        tf_idf[w] = word_freq[w] / total_words_cnt * selected_words[\"idf\"][w]\n",
    "    tag_list.append({k:word_freq[k] for k in sorted(tf_idf, reverse=True)[:10]})\n"
   ]
  },
  {
   "cell_type": "code",
   "execution_count": 54,
   "metadata": {},
   "outputs": [
    {
     "name": "stdout",
     "output_type": "stream",
     "text": [
      "                                                    Text  Positive  \\\n",
      "0      bromwell high is a cartoon comedy. it ran at t...      True   \n",
      "1      homelessness (or houselessness as george carli...      True   \n",
      "2      brilliant over-acting by lesley ann warren. be...      True   \n",
      "3      this is easily the most underrated film inn th...      True   \n",
      "4      this is not the typical mel brooks film. it wa...      True   \n",
      "...                                                  ...       ...   \n",
      "24995  towards the end of the movie, i felt it was to...     False   \n",
      "24996  this is the kind of movie that my enemies cont...     False   \n",
      "24997  i saw 'descent' last night at the stockholm fi...     False   \n",
      "24998  some films that you pick up for a pound turn o...     False   \n",
      "24999  this is one of the dumbest films, i've ever se...     False   \n",
      "\n",
      "                                                    Freq  \\\n",
      "0      {'bromwel': 4, 'high': 5, 'cartoon': 1, 'comed...   \n",
      "1      {'homeless': 4, 'houseless': 1, 'georg': 1, 'c...   \n",
      "2      {'brilliant': 1, 'lesley': 1, 'ann': 1, 'warre...   \n",
      "3      {'easili': 1, 'underr': 1, 'film': 2, 'inn': 1...   \n",
      "4      {'typic': 1, 'mel': 1, 'brook': 2, 'film': 1, ...   \n",
      "...                                                  ...   \n",
      "24995  {'toward': 1, 'end': 1, 'movi': 7, 'felt': 2, ...   \n",
      "24996  {'kind': 3, 'movi': 2, 'enemi': 1, 'content': ...   \n",
      "24997  {'saw': 1, 'last': 1, 'night': 1, 'stockholm':...   \n",
      "24998  {'film': 7, 'pick': 1, 'pound': 1, 'turn': 1, ...   \n",
      "24999  {'one': 1, 'dumbest': 1, 'film': 2, 'ever': 2,...   \n",
      "\n",
      "                                                    tags  \n",
      "0      {'year': 1, 'whole': 1, 'welcom': 1, 'tri': 1,...  \n",
      "1      {'young': 1, 'year': 1, 'written': 1, 'world':...  \n",
      "2      {'word': 1, 'warren': 1, 'warehous': 1, 'want'...  \n",
      "3      {'writer': 1, 'way': 1, 'view': 3, 'unlik': 1,...  \n",
      "4      {'worth': 1, 'without': 1, 'well': 1, 'warren'...  \n",
      "...                                                  ...  \n",
      "24995  {'would': 1, 'well': 1, 'weak': 1, 'watch': 2,...  \n",
      "24996  {'watch': 4, 'true': 1, 'triangl': 1, 'time': ...  \n",
      "24997  {'ye': 1, 'would': 1, 'world': 1, 'whole': 1, ...  \n",
      "24998  {'zombi': 2, 'watch': 2, 'video': 1, 'turn': 1...  \n",
      "24999  {'whole': 1, 'wast': 2, 'understand': 1, 'type...  \n",
      "\n",
      "[25000 rows x 4 columns]\n"
     ]
    }
   ],
   "source": [
    "all_comments_df.insert(len(all_comments_df.columns), \"tags\", tag_list)\n",
    "print(all_comments_df)"
   ]
  },
  {
   "cell_type": "code",
   "execution_count": 55,
   "metadata": {},
   "outputs": [],
   "source": [
    "all_comments_df.to_csv(\"tagged_comments.csv\", index=False, encoding=\"utf-8\")"
   ]
  }
 ],
 "metadata": {
  "kernelspec": {
   "display_name": "Python 3",
   "language": "python",
   "name": "python3"
  },
  "language_info": {
   "codemirror_mode": {
    "name": "ipython",
    "version": 3
   },
   "file_extension": ".py",
   "mimetype": "text/x-python",
   "name": "python",
   "nbconvert_exporter": "python",
   "pygments_lexer": "ipython3",
   "version": "3.11.5"
  }
 },
 "nbformat": 4,
 "nbformat_minor": 2
}
