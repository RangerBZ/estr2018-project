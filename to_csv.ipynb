{
 "cells": [
  {
   "cell_type": "code",
   "execution_count": 1,
   "metadata": {},
   "outputs": [],
   "source": [
    "import nltk\n",
    "import numpy as np\n",
    "import pandas as pd\n",
    "from matplotlib import pyplot as plt\n",
    "import os"
   ]
  },
  {
   "cell_type": "code",
   "execution_count": 2,
   "metadata": {},
   "outputs": [],
   "source": [
    "pos = []\n",
    "neg = []\n",
    "\n",
    "for file in os.scandir(\"./aclImdb/train/pos\"):\n",
    "    txt = open(file, \"r\", encoding = \"utf-8\")\n",
    "    pos.append(txt.read().lower())\n",
    "    txt.close()\n",
    "\n",
    "for file in os.scandir(\"./aclImdb/train/neg\"):\n",
    "    txt = open(file, \"r\", encoding = \"utf-8\")\n",
    "    neg.append(txt.read().lower())\n",
    "    txt.close()\n",
    "\n",
    "pd.Series(pos).to_csv(\"pos.csv\", index = False, header = [\"Text\"], encoding=\"utf-8\")\n",
    "pd.Series(neg).to_csv(\"neg.csv\", index = False, header = [\"Text\"], encoding=\"utf-8\")"
   ]
  }
 ],
 "metadata": {
  "kernelspec": {
   "display_name": "Python 3",
   "language": "python",
   "name": "python3"
  },
  "language_info": {
   "codemirror_mode": {
    "name": "ipython",
    "version": 3
   },
   "file_extension": ".py",
   "mimetype": "text/x-python",
   "name": "python",
   "nbconvert_exporter": "python",
   "pygments_lexer": "ipython3",
   "version": "3.11.5"
  }
 },
 "nbformat": 4,
 "nbformat_minor": 2
}
